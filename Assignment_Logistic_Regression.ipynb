{
  "nbformat": 4,
  "nbformat_minor": 0,
  "metadata": {
    "colab": {
      "provenance": []
    },
    "kernelspec": {
      "name": "python3",
      "display_name": "Python 3"
    },
    "language_info": {
      "name": "python"
    }
  },
  "cells": [
    {
      "cell_type": "markdown",
      "source": [
        "## Logistic Regression Questions/Answers"
      ],
      "metadata": {
        "id": "eLViTouk7D-Y"
      }
    },
    {
      "cell_type": "markdown",
      "source": [
        "### 1) What is Simple Linear Regression (SLR)? Explain its purpose.\n",
        "#### > Simple Linear Regression (SLR) is a statistical method used to model and understand the relationship between two variables one independent variable (X) and one dependent variable (Y).\n",
        "#### **Purpose**\n",
        "#### > **Prediction** : To predict the value of the dependent variable based on the independent variable.\n",
        "#### **Example** : Predicting a student's exam score (Y) based on study hours (X).\n",
        "#### > **Understanding Relationships** : To understand how changes in X are associated with changes in Y.\n",
        "#### **Example** : Determining if advertising spend (X) affects sales revenue (Y).\n",
        "#### > **Trend Analysis** : To identify and visualize trends in data, such as upward or downward patterns.\n",
        "#### > **Quantifying Influence** : To measure the strength and direction of the relationship between two variables."
      ],
      "metadata": {
        "id": "25T4KpOM7LQb"
      }
    },
    {
      "cell_type": "markdown",
      "source": [
        "### 2) What are the key assumptions of Simple Linear Regression?\n",
        "#### > The key assumptions of Simple Linear Regression (SLR) ensure that the model's estimates are valid, unbiased, and reliable.\n",
        "#### **Assumptions**\n",
        "#### > **Linearity** : The relationship between the independent variable (X) and the dependent variable (Y) is linear.\n",
        "- This means Y changes at a constant rate with X.\n",
        "- Check: Use a scatter plot of X vs. Y — the points should roughly form a straight line.\n",
        "#### > **Independence of Errors** : The residuals (errors) should be independent of each other.\n",
        "- In other words, one observation's error should not influence another's.\n",
        "- Check: Plot residuals vs. time/order; there should be no visible pattern or trend.\n",
        "#### > **Homoscedasticity (Constant Variance of Errors)** : The variance of the residuals should be constant across all values of X.\n",
        "- If variance increases or decreases with X (a “fan” shape), the assumption is violated.\n",
        "- Check: Residual plot — points should appear randomly scattered with equal spread.\n",
        "#### > **Normality of Errors** : The residuals should be approximately normally distributed.\n",
        "- This assumption is important for hypothesis testing and confidence intervals.\n",
        "- Check: Use a histogram or Q-Q plot of residuals.\n",
        "#### > **No or Minimal Multicollinearity (not relevant for simple regression but critical in multiple regression)** : In SLR, there's only one predictor, so this assumption is automatically satisfied.\n",
        "#### > **No Measurement Error in X** : The independent variable (X) is measured accurately and without significant error."
      ],
      "metadata": {
        "id": "2YsXhSgP8Azc"
      }
    },
    {
      "cell_type": "markdown",
      "source": [
        "### 3) Write the mathematical equation for a simple linear regression model and explain each term.\n",
        "#### > The mathematical equation for a Simple Linear Regression (SLR) model is: **Y=b₀+b₁X+ε**\n",
        "#### > **Y - Dependent Variable (Target)** : The outcome or response we want to predict or explain.\n",
        "- Example: House Price, Exam Score, Sales Revenue.\n",
        "#### > **X - Independent Variable (Predictor)** : The input or explanatory variable used to predict Y.\n",
        "- Example: Square Footage, Hours Studied, Advertising Spend.\n",
        "#### > **b₀ - Intercept (Constant Term)** : The predicted value of Y when X = 0. It represents where the regression line crosses the Y-axis.\n",
        "#### > **b₁ - Slope (Regression Coefficient)** : The amount by which Y changes for a one-unit increase in X. It shows the strength and direction of the relationship.\n",
        "#### > **ε (epsilon) - Error Term (Residual)** - The difference between the actual value and the predicted value of Y. It represents factors not captured by X (random noise)."
      ],
      "metadata": {
        "id": "txKxGW3U9IOB"
      }
    },
    {
      "cell_type": "markdown",
      "source": [
        "### 4) Provide a real-world example where simple linear regression can be applied.\n",
        "#### > **Predicting House Prices Based on Size**\n",
        "#### **Scenario** : A real estate analyst wants to predict the price of a house (Y) based on its size in square feet (X).\n",
        "#### **SLR is Suitable**:There are two variables — one dependent (Price) and one independent (Size).\n",
        "- The relationship between house size and price is typically linear: larger houses tend to have higher prices.\n",
        "#### **Model Equation**: Price=b₀+b₁(Size)+ε\n",
        "#### > where,\n",
        "- Price (Y): Dependent variable — what we want to predict.\n",
        "- Size (X): Independent variable — predictor.\n",
        "- b₀: Intercept (base price when size = 0).\n",
        "- b₁: Slope (increase in price per additional square foot).\n",
        "- ε: Random error (factors like location, amenities, etc.).\n",
        "#### > **Output** : After analyzing the data, the regression equation might be: Price=50,000+200*(Size)\n",
        "#### > **Interpretation** :\n",
        "- The base price of any house is doller 50,000 (even if size = 0).\n",
        "- For every additional square foot, the price increases by doller 200.\n",
        "#### > **Use Case** : A buyer or real estate agent can predict house prices based on size:\n",
        "- For a 1,000 sq. ft. house: Price=50,000+200(1000)=250,000"
      ],
      "metadata": {
        "id": "Hwt1qNmu-gzt"
      }
    },
    {
      "cell_type": "markdown",
      "source": [
        "### 5) What is the method of least squares in linear regression?\n",
        "#### > The method of least squares is the most common technique used to estimate the coefficients (b₀ and b₁) in a Simple Linear Regression (SLR) model.It finds the best-fitting line through the data by minimizing the sum of squared errors between the actual and predicted values.\n",
        "#### Equation : Y=b₀+b₁X+ε where,\n",
        "- Y = actual dependent variable\n",
        "- X = independent variable\n",
        "- b₀,b₁= coefficients to be estimated\n",
        "- ε = error (residual)"
      ],
      "metadata": {
        "id": "FhwSe2Y2BG2I"
      }
    },
    {
      "cell_type": "markdown",
      "source": [
        "### 6) What is Logistic Regression? How does it differ from Linear Regression?\n",
        "#### > Logistic Regression is a statistical and machine learning technique used for classification problems, especially binary classification — where the target variable has two possible outcomes.Its the probability that a given input belongs to a particular class using the logistic (sigmoid) function.It predicts a value between 0 and 1, which represents the probability of belonging to the positive class.\n",
        "#### The difference from Linear Regression is in the following ways:\n",
        "##### > **Logistic Regression**\n",
        "- The purpose is to predict a categorical outcome(example: 0 or 1)\n",
        "- The output range is between 0 and 1 (interpreted as probability)\n",
        "- Uses Sigmoid (logistic) function as activation function\n",
        "- Uses Log Loss (Cross-Entropy Loss) as error function\n",
        "- Classification is the type of problem\n",
        "#### > **Linear Regression**\n",
        "- The purpose is to predict a continuous value (example: house price, temperature)\n",
        "- The output range is any real number (−∞ to +∞)\n",
        "- Activation function is none (direct linear output)\n",
        "- Uses Mean Squared Error (MSE) as error function\n",
        "- Regression is the type of problem"
      ],
      "metadata": {
        "id": "9f_sL02LaTsN"
      }
    },
    {
      "cell_type": "markdown",
      "source": [
        "### 7) Name and briefly describe three common evaluation metrics for regression models.\n",
        "#### > The three common evaluation metrics used to assess regression models are:\n",
        "#### > **Mean Absolute Error (MAE)** : It measures the average absolute difference between the predicted and actual values.\n",
        "#### **Interpretation** : Lower MAE means better accuracy. It gives an idea of the average prediction error in the same units as the target variable.\n",
        "#### > **Mean Squared Error (MSE)** : It measures the average of squared differences between predicted and actual values.\n",
        "#### **Interpretation** : Penalizes larger errors more heavily due to squaring. A lower MSE indicates a better model fit.\n",
        "#### > **R-squared (Coefficient of Determination)** : Indicates the proportion of variance in the dependent variable that is explained by the model.\n",
        "#### **Interpretation** : R² ranges from 0 to 1. A higher value means the model explains more variability in the data."
      ],
      "metadata": {
        "id": "azTGqPWpcjup"
      }
    },
    {
      "cell_type": "markdown",
      "source": [
        "### 8) What is the purpose of the R-squared metric in regression analysis?\n",
        "#### > The purpose of the R-squared (R²) metric in regression analysis is to measure how well the independent variables explain the variability of the dependent variable in a model.It represents the proportion of variance in the target (dependent) variable that is explained by the regression model.\n",
        "#### >**Formulae** : R²=1-SSres/SStot\n",
        "#### where\n",
        "- SSres= Sum of squared residuals (errors)\n",
        "- SStot= Total sum of squares (variation in actual data)​\t​\n",
        "#### > **Interpretation** :\n",
        "- R² = 1 (or 100%) - Perfect fit; model explains all variability in the data.\n",
        "- R² = 0 - Model explains none of the variability; it performs no better than using the mean of the target variable.\n",
        "- Higher R² values indicate a better fit, but not necessarily a better model (overfitting may occur).\n",
        "\n",
        "\t​\n"
      ],
      "metadata": {
        "id": "7oa7KgOTeQv3"
      }
    },
    {
      "cell_type": "markdown",
      "source": [
        "### 9) Write Python code to fit a simple linear regression model using scikit-learn and print the slope and intercept."
      ],
      "metadata": {
        "id": "x3EFE2t7fW12"
      }
    },
    {
      "cell_type": "code",
      "source": [
        "import numpy as np\n",
        "from sklearn.linear_model import LinearRegression\n",
        "\n",
        "X = np.array([[1], [2], [3], [4], [5]])\n",
        "y = np.array([2, 4, 5, 4, 5])\n",
        "\n",
        "model = LinearRegression()\n",
        "model.fit(X, y)\n",
        "\n",
        "print(\"Slope (Coefficient):\", model.coef_[0])\n",
        "print(\"Intercept:\", model.intercept_)"
      ],
      "metadata": {
        "colab": {
          "base_uri": "https://localhost:8080/"
        },
        "id": "CY4eS8uVfFuL",
        "outputId": "c8fca4b7-19ea-4384-bfc3-c5d1baedce03"
      },
      "execution_count": 1,
      "outputs": [
        {
          "output_type": "stream",
          "name": "stdout",
          "text": [
            "Slope (Coefficient): 0.6\n",
            "Intercept: 2.2\n"
          ]
        }
      ]
    },
    {
      "cell_type": "markdown",
      "source": [
        "### 10)  How do you interpret the coefficients in a simple linear regression model?\n",
        "#### > In Simple Linear Regression, the model predicts a dependent variable Y from a single independent variable X using the equation: Y=b₀+b₁X\n",
        "#### > **Intercept(b₀)** : The predicted value of Y when X=0\n",
        "#### > **Interpretation** :\n",
        "- If X=0,then value of Y ie exactly b₀\n",
        "- It sets the baseline of the regression line.\n",
        "#### **Example** : if b₀=2,then when X=0,the predicted Y=2\n",
        "#### > **Slope / Coefficient(b₁)** : The amount by which Y changes for a one-unit increase in X\n",
        "#### > **Interpretation**\n",
        "- Positive b₁-Y increases as X increases\n",
        "- Negative b₁-Y decreases as X increases\n",
        "#### **Example** : if b₁=0.5,then for every 1-unit increase in X,Yincreases by 0.5 units.\n",
        "#### The slope tells you the strength and direction of the relationship, while the intercept anchors the line on the Y-axis."
      ],
      "metadata": {
        "id": "vD2-zOAZf1BY"
      }
    }
  ]
}